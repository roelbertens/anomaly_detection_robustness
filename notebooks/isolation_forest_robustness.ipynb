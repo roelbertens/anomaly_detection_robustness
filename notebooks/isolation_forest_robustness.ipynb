{
 "cells": [
  {
   "cell_type": "code",
   "execution_count": null,
   "metadata": {},
   "outputs": [],
   "source": [
    "%load_ext autoreload\n",
    "%autoreload 2\n",
    "\n",
    "import numpy as np\n",
    "import matplotlib.pyplot as plt\n",
    "import networkx as nx\n",
    "import pandas as pd\n",
    "from sklearn.ensemble import IsolationForest\n",
    "import seaborn as sns\n",
    "\n",
    "from anomaly_detection_robustness.graph import Node, Graph"
   ]
  },
  {
   "cell_type": "code",
   "execution_count": null,
   "metadata": {},
   "outputs": [],
   "source": [
    "def plot_rocauc(name, values, scores):\n",
    "    fig, ax = plt.subplots(1,1)\n",
    "    sns.boxplot(x=name, y='score', data=scores, ax=ax)\n",
    "    ax.set_title(f'Varying {name}')\n",
    "    return ax"
   ]
  },
  {
   "cell_type": "markdown",
   "metadata": {},
   "source": [
    "# Check the robustness of an Isolation Forest when varying the number of features"
   ]
  },
  {
   "cell_type": "markdown",
   "metadata": {},
   "source": [
    "## Define a network"
   ]
  },
  {
   "cell_type": "code",
   "execution_count": null,
   "metadata": {
    "scrolled": true
   },
   "outputs": [],
   "source": [
    "# Only for visualizing\n",
    "G = nx.DiGraph()\n",
    "G.add_edge('r1', 'c1')\n",
    "G.add_edge('r2', 'c1')\n",
    "G.add_edge('r1', 'c2')\n",
    "G.add_edge('r2', 'c2')\n",
    "G.add_edge('c1', 'gc1')\n",
    "G.add_edge('gc1', 'ggc1')\n",
    "nx.draw_networkx(G, node_size=1000)"
   ]
  },
  {
   "cell_type": "code",
   "execution_count": null,
   "metadata": {},
   "outputs": [],
   "source": [
    "r1 = Node(256, 'root 1')\n",
    "r2 = Node(10, 'root 2')\n",
    "\n",
    "c1 = Node(50, 'child 1')\n",
    "c1.add_parent(r1)\n",
    "c1.add_parent(r2)\n",
    "\n",
    "c2 = Node(8, 'child 2')\n",
    "c2.add_parent(r1)\n",
    "c2.add_parent(r2)\n",
    "\n",
    "gc1 = Node(5, 'grandchild 1')\n",
    "gc1.add_parent(c1)\n",
    "\n",
    "ggc1 = Node(20, 'grandgrandchild 1')\n",
    "ggc1.add_parent(gc1)\n",
    "\n",
    "nodes = [r1, r2, c1, c2, gc1, ggc1]"
   ]
  },
  {
   "cell_type": "markdown",
   "metadata": {},
   "source": [
    "## Vary on how many features the anomalies are different"
   ]
  },
  {
   "cell_type": "code",
   "execution_count": null,
   "metadata": {},
   "outputs": [],
   "source": [
    "contamination = 0.005\n",
    "graph = Graph(nodes=nodes, contamination=contamination)"
   ]
  },
  {
   "cell_type": "code",
   "execution_count": null,
   "metadata": {},
   "outputs": [],
   "source": [
    "name = 'nr_features_to_change'\n",
    "values = range(len(nodes)+1)\n",
    "scores = pd.DataFrame()\n",
    "repeat_times = 10\n",
    "i = 0\n",
    "for nr_features_to_change in values:\n",
    "    for _ in range(repeat_times):\n",
    "        graph.label(nr_features_to_change=nr_features_to_change)\n",
    "        scores.loc[i, 'score'] = graph.score()\n",
    "        scores.loc[i, name] = nr_features_to_change \n",
    "        i += 1\n",
    "    \n",
    "plot_rocauc(name, round(pd.Series(values)/len(nodes)*100, 1), scores)"
   ]
  },
  {
   "cell_type": "markdown",
   "metadata": {},
   "source": [
    "As expected the performance increases when the anomalies are defined to differ on more features."
   ]
  },
  {
   "cell_type": "markdown",
   "metadata": {},
   "source": [
    "# Add more features"
   ]
  },
  {
   "cell_type": "markdown",
   "metadata": {},
   "source": [
    "### Keep anomalies constant (i.e. `nr_features_to_change`)  and add more features with similar values for all data points (both anomalies and normal data points)"
   ]
  },
  {
   "cell_type": "code",
   "execution_count": null,
   "metadata": {
    "scrolled": true
   },
   "outputs": [],
   "source": [
    "chain_length = 20\n",
    "name = f'nr_chains_of_length_{chain_length}'\n",
    "values = range(5)\n",
    "scores = pd.DataFrame()\n",
    "repeat_times = 10\n",
    "i = 0\n",
    "for nr_chains in values:\n",
    "    for _ in range(repeat_times):\n",
    "        graph = Graph(nodes=nodes, contamination=contamination, nr_chains=nr_chains, chain_length=chain_length)        \n",
    "        graph.label(nr_features_to_change=len(nodes))\n",
    "        scores.loc[i, 'score'] = graph.score()\n",
    "        scores.loc[i, name] = nr_chains \n",
    "        i += 1\n",
    "    \n",
    "plot_rocauc(name, pd.Series(values)*chain_length, scores);"
   ]
  },
  {
   "cell_type": "markdown",
   "metadata": {},
   "source": [
    "Performance decreases when more features are added."
   ]
  },
  {
   "cell_type": "markdown",
   "metadata": {},
   "source": [
    "## Adding even more features"
   ]
  },
  {
   "cell_type": "code",
   "execution_count": null,
   "metadata": {},
   "outputs": [],
   "source": [
    "name = f'nr_additional_features'\n",
    "values = np.arange(0, 750, 250)\n",
    "scores = pd.DataFrame()\n",
    "repeat_times = 10\n",
    "i = 0\n",
    "for nr_externals in values:\n",
    "    for _ in range(repeat_times):\n",
    "        graph = Graph(nodes=nodes, contamination=contamination, nr_externals=nr_externals)\n",
    "        graph.label(nr_features_to_change=len(nodes))\n",
    "        scores.loc[i, 'score'] = graph.score()\n",
    "        scores.loc[i, name] = nr_externals \n",
    "        i += 1\n",
    "    \n",
    "plot_rocauc(name, values, scores)"
   ]
  },
  {
   "cell_type": "markdown",
   "metadata": {},
   "source": [
    "Performance decreases even further."
   ]
  },
  {
   "cell_type": "markdown",
   "metadata": {},
   "source": [
    "## Comparing the predictions agains a simple PCA shows that it should be easy to separate the anomalies"
   ]
  },
  {
   "cell_type": "code",
   "execution_count": null,
   "metadata": {
    "scrolled": false
   },
   "outputs": [],
   "source": [
    "from sklearn.decomposition import PCA\n",
    "pca = PCA()\n",
    "X_r = pca.fit_transform(graph.X)\n",
    "\n",
    "# plt.bar(range(graph.X.shape[1]), pca.explained_variance_)\n",
    "plt.scatter(X_r[graph.y==1, 0], X_r[graph.y==1, 1], c='r', label='Anomaly')\n",
    "plt.scatter(X_r[graph.y==0, 0], X_r[graph.y==0, 1], c='b', label='Normal')\n",
    "plt.title('PCA first two components')\n",
    "plt.legend();"
   ]
  },
  {
   "cell_type": "code",
   "execution_count": null,
   "metadata": {},
   "outputs": [],
   "source": [
    "model = IsolationForest(\n",
    "    n_estimators=100,\n",
    "    max_samples='auto',\n",
    "    contamination=contamination,\n",
    "    random_state=42,\n",
    "    n_jobs=-1)\n",
    "\n",
    "model.fit(graph.X)\n",
    "predictions = model.predict(graph.X)\n",
    "\n",
    "plt.scatter(X_r[predictions==1, 0], X_r[predictions==1, 1], c='b', label='Normal')\n",
    "plt.scatter(X_r[predictions==-1, 0], X_r[predictions==-1, 1], c='r', label='Anomaly')\n",
    "plt.title('IF predictions')\n",
    "plt.legend();"
   ]
  },
  {
   "cell_type": "markdown",
   "metadata": {},
   "source": [
    "## Can we tune the model to increase performance?"
   ]
  },
  {
   "cell_type": "code",
   "execution_count": null,
   "metadata": {},
   "outputs": [],
   "source": [
    "graph = Graph(nodes=nodes, contamination=contamination, nr_externals=500)\n",
    "graph.label(nr_features_to_change=len(nodes))"
   ]
  },
  {
   "cell_type": "markdown",
   "metadata": {},
   "source": [
    "## Max samples"
   ]
  },
  {
   "cell_type": "code",
   "execution_count": null,
   "metadata": {},
   "outputs": [],
   "source": [
    "name = 'max_samples'\n",
    "values = ['auto', .1, .25, .5, .99]\n",
    "scores = pd.DataFrame()\n",
    "repeat_times = 5\n",
    "i = 0\n",
    "for max_samples in values:\n",
    "    for _ in range(repeat_times):\n",
    "        model = IsolationForest(\n",
    "            n_estimators=100,\n",
    "            max_samples=max_samples,\n",
    "            contamination=contamination,\n",
    "            random_state=None,\n",
    "            n_jobs=-1\n",
    "        )\n",
    "        scores.loc[i, 'score'] = graph.score(model=model)\n",
    "        scores.loc[i, name] = max_samples \n",
    "        i += 1\n",
    "    \n",
    "plot_rocauc(name, values, scores)"
   ]
  },
  {
   "cell_type": "markdown",
   "metadata": {},
   "source": [
    "By increasing the number of samples the performance increases significantly.\n",
    "Continuing `max_samples` is set to `0.25`."
   ]
  },
  {
   "cell_type": "markdown",
   "metadata": {},
   "source": [
    "## Max features"
   ]
  },
  {
   "cell_type": "code",
   "execution_count": null,
   "metadata": {},
   "outputs": [],
   "source": [
    "name = 'max_features'\n",
    "values = [.1, .25, .5, .75, .9, 1.]\n",
    "scores = pd.DataFrame()\n",
    "repeat_times = 10\n",
    "i = 0\n",
    "for max_features in values:\n",
    "    for _ in range(repeat_times):\n",
    "        model = IsolationForest(\n",
    "            n_estimators=100,\n",
    "            max_samples=.25,\n",
    "            max_features=max_features,\n",
    "            contamination=contamination,\n",
    "            random_state=None,\n",
    "            n_jobs=-1\n",
    "        )\n",
    "        scores.loc[i, 'score'] = graph.score(model=model)\n",
    "        scores.loc[i, name] = max_features \n",
    "        i += 1\n",
    "    \n",
    "plot_rocauc(name, values, scores)"
   ]
  },
  {
   "cell_type": "markdown",
   "metadata": {},
   "source": [
    "The maximum number of features doesn't have a big impact.\n",
    "Continuing it is kept at the default."
   ]
  },
  {
   "cell_type": "markdown",
   "metadata": {},
   "source": [
    "## Nr. estimators"
   ]
  },
  {
   "cell_type": "code",
   "execution_count": null,
   "metadata": {},
   "outputs": [],
   "source": [
    "name = 'n_estimators'\n",
    "values = np.arange(100, 500, 100)\n",
    "scores = pd.DataFrame()\n",
    "repeat_times = 5\n",
    "i = 0\n",
    "for n_estimators in values:\n",
    "    for _ in range(repeat_times):\n",
    "        model = IsolationForest(\n",
    "            n_estimators=n_estimators,\n",
    "            max_samples=.25,\n",
    "            contamination=contamination,\n",
    "            random_state=None,\n",
    "            n_jobs=-1\n",
    "        )\n",
    "        scores.loc[i, 'score'] = graph.score(model=model)\n",
    "        scores.loc[i, name] = n_estimators \n",
    "        i += 1\n",
    "    \n",
    "plot_rocauc(name, values, scores)"
   ]
  },
  {
   "cell_type": "markdown",
   "metadata": {},
   "source": [
    "Increasing the number of estimators does not seem to have a significant effect."
   ]
  },
  {
   "cell_type": "code",
   "execution_count": null,
   "metadata": {},
   "outputs": [],
   "source": []
  }
 ],
 "metadata": {
  "kernelspec": {
   "display_name": "Python 3",
   "language": "python",
   "name": "python3"
  },
  "language_info": {
   "codemirror_mode": {
    "name": "ipython",
    "version": 3
   },
   "file_extension": ".py",
   "mimetype": "text/x-python",
   "name": "python",
   "nbconvert_exporter": "python",
   "pygments_lexer": "ipython3",
   "version": "3.7.0"
  }
 },
 "nbformat": 4,
 "nbformat_minor": 2
}
