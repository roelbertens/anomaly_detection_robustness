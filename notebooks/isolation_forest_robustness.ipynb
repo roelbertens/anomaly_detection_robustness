{
 "cells": [
  {
   "cell_type": "code",
   "execution_count": null,
   "metadata": {},
   "outputs": [],
   "source": [
    "%load_ext autoreload\n",
    "%autoreload 2\n",
    "\n",
    "import numpy as np\n",
    "import matplotlib.pyplot as plt\n",
    "import networkx as nx\n",
    "import pandas as pd\n",
    "from sklearn.ensemble import IsolationForest\n",
    "import seaborn as sns\n",
    "\n",
    "from anomaly_detection_robustness.graph import Node, Graph"
   ]
  },
  {
   "cell_type": "code",
   "execution_count": null,
   "metadata": {},
   "outputs": [],
   "source": [
    "def plot_rocauc(data, x_col, y_col, title=None, xlabel=None, ylabel=None):\n",
    "    if not title:\n",
    "        title = f'Performance while varying {x_col}'\n",
    "    if not xlabel:\n",
    "        xlabel = x_col\n",
    "    if not ylabel:\n",
    "        ylabel = y_col\n",
    "        \n",
    "    fig, ax = plt.subplots(1,1)\n",
    "    sns.boxplot(x=x_col, y=y_col, data=data, ax=ax)\n",
    "    ax.set_title(title)\n",
    "    ax.set_xlabel(xlabel)\n",
    "    ax.set_ylabel(ylabel)\n",
    "    return ax"
   ]
  },
  {
   "cell_type": "markdown",
   "metadata": {},
   "source": [
    "# Check the robustness of an Isolation Forest when varying the number of features"
   ]
  },
  {
   "cell_type": "markdown",
   "metadata": {},
   "source": [
    "## Define an example network"
   ]
  },
  {
   "cell_type": "code",
   "execution_count": null,
   "metadata": {
    "scrolled": true
   },
   "outputs": [],
   "source": [
    "# Only for visualizing\n",
    "fig, ax = plt.subplots(1,1)\n",
    "G = nx.DiGraph()\n",
    "G.add_edge('r1', 'c1')\n",
    "G.add_edge('r2', 'c1')\n",
    "G.add_edge('r1', 'c2')\n",
    "G.add_edge('r2', 'c2')\n",
    "G.add_edge('c1', 'gc1')\n",
    "G.add_edge('gc1', 'ggc1')\n",
    "nx.draw_networkx(G, node_size=1000, ax=ax)\n",
    "ax.set_title('Graphical model used to generate synthetic data');"
   ]
  },
  {
   "cell_type": "code",
   "execution_count": null,
   "metadata": {},
   "outputs": [],
   "source": [
    "# Actual definition \n",
    "r1 = Node(256, 'root 1')\n",
    "r2 = Node(10, 'root 2')\n",
    "\n",
    "c1 = Node(50, 'child 1')\n",
    "c1.add_parent(r1)\n",
    "c1.add_parent(r2)\n",
    "\n",
    "c2 = Node(8, 'child 2')\n",
    "c2.add_parent(r1)\n",
    "c2.add_parent(r2)\n",
    "\n",
    "gc1 = Node(5, 'grandchild 1')\n",
    "gc1.add_parent(c1)\n",
    "\n",
    "ggc1 = Node(20, 'grandgrandchild 1')\n",
    "ggc1.add_parent(gc1)\n",
    "\n",
    "nodes = [r1, r2, c1, c2, gc1, ggc1]\n",
    "CONTAMINATION = 0.005  # used for IF and when generating data\n",
    "graph = Graph(nodes=nodes, contamination=CONTAMINATION)\n",
    "\n",
    "REPEAT_TIMES = 10"
   ]
  },
  {
   "cell_type": "markdown",
   "metadata": {},
   "source": [
    "## Vary on how many features the anomalies are different"
   ]
  },
  {
   "cell_type": "code",
   "execution_count": null,
   "metadata": {},
   "outputs": [],
   "source": [
    "title = 'The more different the anomalies\\nthe better the Isolation Forest\\'s performance'\n",
    "xlabel = 'Nr. of features on which anomalies differ from normal data points\\n(out of 6 features in total)'\n",
    "ylabel = 'ROC AUC score'\n",
    "\n",
    "values = range(len(nodes)+1)\n",
    "scores = pd.DataFrame()\n",
    "i = 0\n",
    "for nr_features_to_change in values:\n",
    "    for _ in range(REPEAT_TIMES):\n",
    "        graph.label(nr_features_to_change=nr_features_to_change)\n",
    "        scores.loc[i, ylabel] = graph.score()\n",
    "        scores.loc[i, xlabel] = nr_features_to_change \n",
    "        i += 1\n",
    "\n",
    "plot_rocauc(data=scores, x_col=xlabel, y_col=ylabel, title=title)"
   ]
  },
  {
   "cell_type": "markdown",
   "metadata": {},
   "source": [
    "Repeat with uncorrelated nodes"
   ]
  },
  {
   "cell_type": "code",
   "execution_count": null,
   "metadata": {},
   "outputs": [],
   "source": [
    "graph_uncorrelated = Graph([Node(10, f'{i}') for i in range(6)], contamination=CONTAMINATION)\n",
    "\n",
    "title = 'Isolation Forest performance\\nwhile varying nr. features changed for anomalies'\n",
    "xlabel = 'Nr. of features changed out of 6'\n",
    "ylabel = 'ROC AUC score'\n",
    "\n",
    "values = range(len(nodes)+1)\n",
    "scores = pd.DataFrame()\n",
    "i = 0\n",
    "for nr_features_to_change in values:\n",
    "    for _ in range(REPEAT_TIMES):\n",
    "        graph_uncorrelated.label(nr_features_to_change=nr_features_to_change)\n",
    "        scores.loc[i, ylabel] = graph_uncorrelated.score()\n",
    "        scores.loc[i, xlabel] = nr_features_to_change \n",
    "        i += 1\n",
    "\n",
    "plot_rocauc(data=scores, x_col=xlabel, y_col=ylabel, title=title)"
   ]
  },
  {
   "cell_type": "markdown",
   "metadata": {},
   "source": [
    "As expected the performance increases when the anomalies are defined to differ on more features."
   ]
  },
  {
   "cell_type": "markdown",
   "metadata": {},
   "source": [
    "# Check IF performance when adding irrelevant features"
   ]
  },
  {
   "cell_type": "markdown",
   "metadata": {},
   "source": [
    "### Keep anomalies constant (i.e. `nr_features_to_change`)  and add irrelevant features \n",
    "(similar values for all data points; both anomalies and normal data points)"
   ]
  },
  {
   "cell_type": "code",
   "execution_count": null,
   "metadata": {},
   "outputs": [],
   "source": [
    "title = 'Isolation Forests\\'s performance drops significantly\\nwhen adding noise (irrelevant features)'\n",
    "xlabel = 'Nr. of irrelevant features added (to the original 6 features)'\n",
    "ylabel = 'ROC AUC score'"
   ]
  },
  {
   "cell_type": "code",
   "execution_count": null,
   "metadata": {},
   "outputs": [],
   "source": [
    "values = [0, 100, 250, 500, 750, 1000]\n",
    "scores = pd.DataFrame()\n",
    "i = 0\n",
    "for nr_externals in values:\n",
    "    for _ in range(REPEAT_TIMES):\n",
    "        graph = Graph(nodes=nodes, contamination=CONTAMINATION, nr_externals=nr_externals)\n",
    "        graph.label(nr_features_to_change=len(nodes))\n",
    "        scores.loc[i, ylabel] = graph.score()\n",
    "        scores.loc[i, xlabel] = nr_externals \n",
    "        i += 1"
   ]
  },
  {
   "cell_type": "code",
   "execution_count": null,
   "metadata": {
    "scrolled": true
   },
   "outputs": [],
   "source": [
    "plot_rocauc(data=scores, x_col=xlabel, y_col=ylabel, title=title)"
   ]
  },
  {
   "cell_type": "markdown",
   "metadata": {},
   "source": [
    "Performance decreases clearly."
   ]
  },
  {
   "cell_type": "markdown",
   "metadata": {},
   "source": [
    "## Performing PCA shows that it should be easy to separate the anomalies"
   ]
  },
  {
   "cell_type": "code",
   "execution_count": null,
   "metadata": {},
   "outputs": [],
   "source": [
    "xlabel = 'First PCA component'\n",
    "ylabel = 'Second PCA component'"
   ]
  },
  {
   "cell_type": "code",
   "execution_count": null,
   "metadata": {
    "scrolled": true
   },
   "outputs": [],
   "source": [
    "from sklearn.decomposition import PCA\n",
    "pca = PCA()\n",
    "X_r = pca.fit_transform(graph.X)\n",
    "\n",
    "# plt.bar(range(graph.X.shape[1]), pca.explained_variance_)\n",
    "plt.scatter(X_r[graph.y==1, 0], X_r[graph.y==1, 1], c='r', label='True anomaly')\n",
    "plt.scatter(X_r[graph.y==0, 0], X_r[graph.y==0, 1], c='b', label='True normal')\n",
    "plt.title('First two PCA components show that\\nanomalies are `few and different`')\n",
    "plt.xlabel(xlabel)\n",
    "plt.ylabel(ylabel)\n",
    "plt.legend();"
   ]
  },
  {
   "cell_type": "code",
   "execution_count": null,
   "metadata": {},
   "outputs": [],
   "source": [
    "model = IsolationForest(\n",
    "    contamination=CONTAMINATION,\n",
    "    random_state=42,\n",
    "    n_jobs=-1)\n",
    "model.fit(graph.X)\n",
    "predictions = model.predict(graph.X)\n",
    "\n",
    "plt.scatter(X_r[predictions==1, 0], X_r[predictions==1, 1], c='b', label='Predicted normal')\n",
    "plt.scatter(X_r[predictions==-1, 0], X_r[predictions==-1, 1], c='orange', label='Predicted anomaly')\n",
    "plt.title('Visual representation (on first two PCA components)\\nof low quality predictions with Isolation Forest')\n",
    "plt.xlabel(xlabel)\n",
    "plt.ylabel(ylabel)\n",
    "plt.legend();"
   ]
  },
  {
   "cell_type": "markdown",
   "metadata": {},
   "source": [
    "## Can we tune the model to increase performance?"
   ]
  },
  {
   "cell_type": "code",
   "execution_count": null,
   "metadata": {},
   "outputs": [],
   "source": [
    "graph = Graph(nodes=nodes, contamination=CONTAMINATION, nr_externals=500)\n",
    "graph.label(nr_features_to_change=len(nodes))"
   ]
  },
  {
   "cell_type": "markdown",
   "metadata": {},
   "source": [
    "## Changing the `max samples` parameter"
   ]
  },
  {
   "cell_type": "code",
   "execution_count": null,
   "metadata": {},
   "outputs": [],
   "source": [
    "title = 'Performance steadily increases\\nwhen increasing `max_samples` parameter'\n",
    "xlabel = 'Value for `max_sample` parameter'\n",
    "ylabel = 'ROC AUC score'"
   ]
  },
  {
   "cell_type": "code",
   "execution_count": null,
   "metadata": {},
   "outputs": [],
   "source": [
    "values = ['auto', .1, .2, .3, .4, .5, .6, .7, .8, .9, 1.]\n",
    "scores = pd.DataFrame()\n",
    "i = 0\n",
    "for max_samples in values:\n",
    "    for _ in range(REPEAT_TIMES):\n",
    "        model = IsolationForest(\n",
    "            max_samples=max_samples,\n",
    "            contamination=CONTAMINATION,\n",
    "            random_state=None,\n",
    "            n_jobs=-1\n",
    "        )\n",
    "        scores.loc[i, ylabel], scores.loc[i, 'Runtime'] = graph.score(model=model, get_fit_predict_time=True)\n",
    "        scores.loc[i, xlabel] = max_samples \n",
    "        i += 1"
   ]
  },
  {
   "cell_type": "code",
   "execution_count": null,
   "metadata": {},
   "outputs": [],
   "source": [
    "plot_rocauc(data=scores, x_col=xlabel, y_col=ylabel, title=title)"
   ]
  },
  {
   "cell_type": "markdown",
   "metadata": {},
   "source": [
    "By increasing the number of samples the performance increases significantly.\n",
    "Continuing `max_samples` is set to `0.25`."
   ]
  },
  {
   "cell_type": "code",
   "execution_count": null,
   "metadata": {},
   "outputs": [],
   "source": [
    "fg = sns.lmplot(\n",
    "    x='max_samples', \n",
    "    y='Runtime (sec)', \n",
    "    data=(scores\n",
    "          .loc[lambda x: x[xlabel] != 'auto']\n",
    "          .assign(max_samples=lambda x: x[xlabel].astype(float)))\n",
    ")\n",
    "fg.ax.set_title('Runtime also steadily increases\\nwhen increasing `max_samples` parameter')\n",
    "fg.ax.set_xlabel(xlabel);"
   ]
  },
  {
   "cell_type": "markdown",
   "metadata": {},
   "source": [
    "## Changing the `max features` parameter"
   ]
  },
  {
   "cell_type": "code",
   "execution_count": null,
   "metadata": {},
   "outputs": [],
   "source": [
    "title = 'Isolation Forest performance\\nwhile varying max_features parameter'\n",
    "xlabel = 'Value for max_features parameter'\n",
    "ylabel = 'ROC AUC score'\n",
    "\n",
    "values = [.1, .25, .5, .75, .9, 1.]\n",
    "scores = pd.DataFrame()\n",
    "i = 0\n",
    "for max_features in values:\n",
    "    for _ in range(REPEAT_TIMES):\n",
    "        model = IsolationForest(\n",
    "            max_samples=0.25,\n",
    "            max_features=max_features,\n",
    "            contamination=CONTAMINATION,\n",
    "            random_state=None,\n",
    "            n_jobs=-1\n",
    "        )\n",
    "        scores.loc[i, ylabel], scores.loc[i, 'time'] = graph.score(model=model, get_fit_predict_time=True)\n",
    "        scores.loc[i, xlabel] = max_features \n",
    "        i += 1\n",
    "\n",
    "plot_rocauc(data=scores, x_col=xlabel, y_col=ylabel, title=title)\n",
    "plot_rocauc(data=scores, x_col=xlabel, y_col='time', title='Runtime for different settings of max_features')"
   ]
  },
  {
   "cell_type": "markdown",
   "metadata": {},
   "source": [
    "The maximum number of features doesn't have a big impact.\n",
    "Continuing it is kept at the default."
   ]
  },
  {
   "cell_type": "markdown",
   "metadata": {},
   "source": [
    "## Changing the `n_estimators` parameter"
   ]
  },
  {
   "cell_type": "code",
   "execution_count": null,
   "metadata": {},
   "outputs": [],
   "source": [
    "title = 'Isolation Forest performance\\nwhile varying n_estimators parameter'\n",
    "xlabel = 'Value for n_estimators parameter'\n",
    "ylabel = 'ROC AUC score'\n",
    "\n",
    "values = np.arange(100, 500, 100)\n",
    "scores = pd.DataFrame()\n",
    "i = 0\n",
    "for n_estimators in values:\n",
    "    for _ in range(REPEAT_TIMES):\n",
    "        model = IsolationForest(\n",
    "            n_estimators=n_estimators,\n",
    "            max_samples=0.25,\n",
    "            contamination=CONTAMINATION,\n",
    "            random_state=None,\n",
    "            n_jobs=-1\n",
    "        )\n",
    "        scores.loc[i, ylabel], scores.loc[i, 'time'] = graph.score(model=model, get_fit_predict_time=True)\n",
    "        scores.loc[i, xlabel] = n_estimators \n",
    "        i += 1\n",
    "\n",
    "plot_rocauc(data=scores, x_col=xlabel, y_col=ylabel, title=title)\n",
    "plot_rocauc(data=scores, x_col=xlabel, y_col='time', title='Runtime for different settings of n_estimators')"
   ]
  },
  {
   "cell_type": "markdown",
   "metadata": {},
   "source": [
    "Increasing the number of estimators seems to improves performance a bit."
   ]
  },
  {
   "cell_type": "code",
   "execution_count": null,
   "metadata": {},
   "outputs": [],
   "source": []
  }
 ],
 "metadata": {
  "kernelspec": {
   "display_name": "Python 3",
   "language": "python",
   "name": "python3"
  },
  "language_info": {
   "codemirror_mode": {
    "name": "ipython",
    "version": 3
   },
   "file_extension": ".py",
   "mimetype": "text/x-python",
   "name": "python",
   "nbconvert_exporter": "python",
   "pygments_lexer": "ipython3",
   "version": "3.7.0"
  }
 },
 "nbformat": 4,
 "nbformat_minor": 2
}
